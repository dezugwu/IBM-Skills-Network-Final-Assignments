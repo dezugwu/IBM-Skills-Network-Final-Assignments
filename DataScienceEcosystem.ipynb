{
 "cells": [
  {
   "cell_type": "markdown",
   "id": "5c794a14-0a7b-46bc-a4db-680954bb3e89",
   "metadata": {},
   "source": [
    "# Data Science Tools and Ecosystem"
   ]
  },
  {
   "cell_type": "markdown",
   "id": "dbf1822b-ea90-45fd-a33b-8b4301e6fd98",
   "metadata": {},
   "source": [
    "## In this notebook, Data Science Tools and Ecosystem are summarized."
   ]
  },
  {
   "cell_type": "markdown",
   "id": "91ba67bd-2d6a-4d63-b8ff-4446849e3111",
   "metadata": {},
   "source": [
    "### **Objectives**\n",
    "\n",
    "- List of popular languages for Data Science.\n",
    "- List of commonly used libraries by Data Scientists\n",
    "- How to create Single row table in jupyter Notebook\n",
    "- Common examples of arithmetic operations in python using jupyter Notebook.\n",
    "- How to create a new jupyter Notebook, name it and save it. "
   ]
  },
  {
   "cell_type": "markdown",
   "id": "2399716c-77ad-4df5-84d6-6bc57b6c8193",
   "metadata": {},
   "source": [
    "### Some of the popular languages that Data Scientists use are:\n",
    "\n",
    "1. Python programming language\n",
    "2. R programming language\n",
    "3. SQL (Structured Query Language)"
   ]
  },
  {
   "cell_type": "markdown",
   "id": "02a02bf0-0af6-478e-905e-8c9cb5c6021b",
   "metadata": {},
   "source": [
    "### Some of the commonly used libraries used by Data Scientists include:\n",
    "1. Numpy\n",
    "2. Pandas\n",
    "3. Matplotlib\n",
    "4. Scikit-Learn"
   ]
  },
  {
   "cell_type": "markdown",
   "id": "c1bdf047-5fd8-43d5-84e9-c47b5bb9f763",
   "metadata": {},
   "source": [
    "### A Single row of Data Science tools table\n",
    "\n",
    "| Data Science Tools |\n",
    "|--------------------|\n",
    "|Jupyterlab          |\n",
    "|VScode              |\n",
    "|Jupyter Notebook    |\n",
    "|Tensorflow          |\n",
    "|Python programming  |\n",
    "|Excel               |\n",
    "|R programming       |\n",
    "|Tableau             |"
   ]
  },
  {
   "cell_type": "markdown",
   "id": "c89dec9d-b269-4ff8-ae6a-01d9f6a4bc29",
   "metadata": {},
   "source": [
    "### Below are a few examples of evaluating arithmetic expressions in Python"
   ]
  },
  {
   "cell_type": "code",
   "execution_count": 1,
   "id": "f856bfd8-26b3-45c5-bd11-cad4702c68b8",
   "metadata": {},
   "outputs": [
    {
     "data": {
      "text/plain": [
       "17"
      ]
     },
     "execution_count": 1,
     "metadata": {},
     "output_type": "execute_result"
    }
   ],
   "source": [
    "# This a simple arithmetic expression to mutiply then add integers\n",
    "(3*4)+5"
   ]
  },
  {
   "cell_type": "code",
   "execution_count": 2,
   "id": "43ce13ab-c4f1-4b92-9231-3b902ab24af1",
   "metadata": {},
   "outputs": [
    {
     "name": "stdout",
     "output_type": "stream",
     "text": [
      "3.3333333333333335\n"
     ]
    }
   ],
   "source": [
    "# This will convert 200 minutes to hours by diving by 60\n",
    "minutes = 200\n",
    "Hours = minutes/60\n",
    "print(Hours)\n"
   ]
  },
  {
   "cell_type": "markdown",
   "id": "36222872-5dd3-4666-94e7-645912d4b283",
   "metadata": {},
   "source": [
    "## Author\n",
    "Ezugwu Desmond."
   ]
  }
 ],
 "metadata": {
  "kernelspec": {
   "display_name": "Python 3 (ipykernel)",
   "language": "python",
   "name": "python3"
  },
  "language_info": {
   "codemirror_mode": {
    "name": "ipython",
    "version": 3
   },
   "file_extension": ".py",
   "mimetype": "text/x-python",
   "name": "python",
   "nbconvert_exporter": "python",
   "pygments_lexer": "ipython3",
   "version": "3.11.8"
  }
 },
 "nbformat": 4,
 "nbformat_minor": 5
}
